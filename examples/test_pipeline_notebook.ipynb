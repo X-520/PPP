{
 "cells": [
  {
   "cell_type": "code",
   "execution_count": 1,
   "metadata": {},
   "outputs": [
    {
     "name": "stdout",
     "output_type": "stream",
     "text": [
      "Imports complete\n"
     ]
    }
   ],
   "source": [
    "import sys\n",
    "import os\n",
    "import subprocess\n",
    "\n",
    "from pgpipe import four_gamete_pysam, vcf_from_regions, vcf_to_ima, vcf_filter, vcf_calc, vcf_sampler, vcf_phase, stat_sampler, vcf_split\n",
    "from pgpipe.logging_module import initLogger\n",
    "from pgpipe.informative_filter import filter_bed_regions\n",
    "from pgpipe.subtract_bed import filter_stat\n",
    "import pysam\n",
    "\n",
    "print (\"Imports complete\")"
   ]
  },
  {
   "cell_type": "markdown",
   "metadata": {},
   "source": [
    "## Setting Filepaths\n",
    "\n",
    "The required input files for a PPP run are:\n",
    "- A genome VCF of the target populations (plus a tabix index if bgzipped)\n",
    "- A population model file\n",
    "\n",
    "The population model file is a JSON-formatted file that defines population names and the individuals from the VCF that belong to each population. This file can be created using the model_creator function, or by creating it manually by using an example model file as a template. \n",
    "\n",
    "For region filtering, the following should be provided:\n",
    "- Name for target region file\n",
    "- Name for final selected region file\n",
    "- File with genic regions/regions to be excluded from analysis (optional)\n",
    "- File with regions to be selected from for analysis (optional)\n",
    "\n",
    "There are two methods for obtaining target regions for subsampling and analysis, with some level of interoperability: using a statistic file to sample regions, or use a file with target regions to randomly select regions with enough sites to be valid in an IM analysis. To generate a statistic file, use vcf_calc to read over the input VCF file, then use stat_sampler to select either a random or uniform distribution of these regions given their statistic value. These stat files can be filtered with a genic region file, available from UCSC, using the subtract_bed function. This method is implemented in this notebook, with the genic region filtering offered as an optional cell.\n",
    "\n",
    "An additional method of region selection, done without statistics, can be done by downloading region files for genic regions, and optionally for STR regions and regions with missing data. If one wants to find a set of target regions that are intergenic and outside of STR regions, download the corresponding files from UCSC for your species and use invert_bed_region to 'invert' the files, optionally selecting only regions outside of a set number of bases from the regions in the file with the --window option. If files don't have typical BED column order, use the --bed-column-index option to provide a comma-separated string with the 0-based index of the start, end, and chromosome column. (For normal BED files, this would be '1,2,0') The get_nonmissing_chunks function can scan the input VCF and find regions with no missing data. All of these can be combined with bedtools to select regions that overlap with all three possible files. \n",
    "\n",
    "Whichever method used, the target region file should be run through the informative_filter function to check the VCF file has enough biallelic, informative SNPs (two or more of each of two alleles) to have a good chance of passing the four-gamete test (which requires regions with at least two SNPs). An informative count of 5 will usually allow for this, but if you have limited regions this threshhold can be lowered to 3. \n",
    "\n",
    "\n",
    "In addition to these files, additional functionality such as CpG filtering and comprehensive logging can be used by providing:\n",
    "- A reference FASTA (for CpG filtering, can be bgzipped or unzipped but requires indexing w/faidx)\n",
    "- A log filename\n",
    "\n",
    "This section also is used to set up the directory structure for data files, a working directory, a directory for VCF region files, a target number of loci, and names for various stages of loci VCF files (phasing, four-gamete testing, potentially filtering individuals with missing data)."
   ]
  },
  {
   "cell_type": "code",
   "execution_count": 2,
   "metadata": {
    "collapsed": true
   },
   "outputs": [],
   "source": [
    "#Set up directories and filepaths, run on all restarts\n",
    "work_dir='/home/jared/workspace/projects_ppp/notebook_sample/'\n",
    "#data_dir='/media/ccgg/ppp_sample_data/'\n",
    "data_dir=work_dir\n",
    "vcf_dir = work_dir+'vcfs/'\n",
    "\n",
    "\n",
    "main_vcf_name = data_dir+'pan_chr20.vcf.gz'\n",
    "filtered_vcf_name = data_dir+'pan_chr20_filtered.vcf.gz'\n",
    "stat_file_name = work_dir+'fst_regions.bed'\n",
    "model_file = data_dir+'great_ape.model'\n",
    "int_bed_file = work_dir+'regions_for_sampling.bed'\n",
    "target_loci_file = work_dir+'target_loci.bed'\n",
    "ima_input_file = work_dir+'test_run_input.ima.u'\n",
    "#subsamp_bed_file = work_dir+'great_ape_genome2/5k_sample.bed'\n",
    "logfile = '/home/jared/testpppj.log'\n",
    "\n",
    "loci=200\n",
    "\n",
    "region_files = [vcf_dir+'Sampled_nonmissing/Sample_'+str(i)+'.vcf' for i in range(loci)]\n",
    "phased_files = [vcf_dir+'Phased/phased_'+str(i)+'.vcf' for i in range(loci)]\n",
    "fourg_files = [vcf_dir+'four_gamete/Sample_'+str(i)+'.vcf' for i in range(loci)]\n",
    "passed_files = []\n"
   ]
  },
  {
   "cell_type": "code",
   "execution_count": 12,
   "metadata": {
    "collapsed": true
   },
   "outputs": [],
   "source": [
    "#Set up directory structure, only needs to be run once\n",
    "if not os.path.exists(vcf_dir):\n",
    "    os.makedirs(vcf_dir)\n",
    "    os.makedirs(vcf_dir+'four_gamete/')\n",
    "    os.makedirs(vcf_dir+'Sampled_nonmissing/')\n",
    "    os.makedirs(vcf_dir+'Phased/')"
   ]
  },
  {
   "cell_type": "markdown",
   "metadata": {},
   "source": [
    "The vcf_filter step will filter the original VCF according to many conditions, including:\n",
    "- Non-biallelic sites (--filter-min-alleles and --filter-max-alleles)\n",
    "- Sites with missing data (--filter-max-missing)\n",
    "- Indels \n",
    "- Sites on non-autosomal chromosomes (--filter-exclude-chr)\n",
    "- Individuals not named in model file (use --model-file to input model file, with --model if multiple models included in file)\n"
   ]
  },
  {
   "cell_type": "code",
   "execution_count": 4,
   "metadata": {},
   "outputs": [
    {
     "name": "stdout",
     "output_type": "stream",
     "text": [
      "Filtering complete\n"
     ]
    }
   ],
   "source": [
    "#Creates VCF filtered for no missing data and biallelic sites\n",
    "vcf_filter.run(['--vcf', main_vcf_name, '--filter-max-missing', '1.0', '--model-file',model_file,\n",
    "                '--model','2Pop', '--filter-min-alleles', '2', '--filter-max-alleles', '2', '--out-format', \n",
    "                'vcf.gz', '--out', filtered_vcf_name, '--filter-exclude-chr', 'chrX', 'chrY', '--overwrite'])\n",
    "\n",
    "pysam.tabix_index(filtered_vcf_name,preset='vcf')\n",
    "print(\"Filtering complete\")"
   ]
  },
  {
   "cell_type": "markdown",
   "metadata": {},
   "source": [
    "The vcf_calc step will, for every 10kb window in the genome, calculate Fst given populations from the model file. Statistics that can be filtered over currently include:\n",
    "- Windowed pi\n",
    "- Tajima's D\n",
    "- Fst"
   ]
  },
  {
   "cell_type": "code",
   "execution_count": 3,
   "metadata": {},
   "outputs": [
    {
     "name": "stdout",
     "output_type": "stream",
     "text": [
      "Stat calculation complete\n"
     ]
    }
   ],
   "source": [
    "#Calculates f_st statistics across genome\n",
    "vcf_calc.run(['--vcf', filtered_vcf_name, '--out', stat_file_name, \n",
    "              '--calc-statistic', 'windowed-weir-fst', '--model', '2Pop', '--statistic-window-size', \n",
    "              '10000', '--statistic-window-step', '10000', '--model-file', model_file, '--overwrite'])\n",
    "print(\"Stat calculation complete\")"
   ]
  },
  {
   "cell_type": "markdown",
   "metadata": {},
   "source": [
    "Using the informative site filter, the regions produced by the statistics generation can be checked for whether they contain enough informative sites to pass the four-gamete test. Additional filtering can be done here if it hasn't been done before. "
   ]
  },
  {
   "cell_type": "code",
   "execution_count": 6,
   "metadata": {},
   "outputs": [
    {
     "name": "stdout",
     "output_type": "stream",
     "text": [
      "BED regions selected\n"
     ]
    },
    {
     "name": "stderr",
     "output_type": "stream",
     "text": [
      "Only 2848 of 5000 regions found\n"
     ]
    }
   ],
   "source": [
    "#Selects subset of regions for fast sampling\n",
    "filter_bed_regions(['--vcf',filtered_vcf_name,'--bed',stat_file_name,\n",
    "                    '--remove-indels','--minsites','3','--keep-full-line','--out',int_bed_file,\n",
    "                    '--randcount','5000','--remove-multi'])\n",
    "print(\"BED regions selected\")\n"
   ]
  },
  {
   "cell_type": "markdown",
   "metadata": {},
   "source": [
    "(Optional) If a file with genic regions is provided, statistic windows that overlap those regions can be removed from potential loci. The window option can be used to extend exclusion regions by a set number of base pairs up AND downstream of regions in the filter file. Zero-ho indicates that files use a zero-based, half open interval representation, as opposed to the general 1-based, closed region format. "
   ]
  },
  {
   "cell_type": "code",
   "execution_count": 3,
   "metadata": {},
   "outputs": [
    {
     "name": "stderr",
     "output_type": "stream",
     "text": [
      "WARNING:root:1773 of 2848 regions selected as non-overlapping\n"
     ]
    }
   ],
   "source": [
    "int_bed_file2 = work_dir+'regions_for_sampling_nogenes.bed'\n",
    "gene_file = work_dir+'hg18_chr22_genes.bed'\n",
    "filter_stat(['--stat-file',int_bed_file,'--filter-file',gene_file,'--window','10000','--zero-ho',\n",
    "            '--out',int_bed_file2])\n",
    "int_bed_file = int_bed_file2"
   ]
  },
  {
   "cell_type": "markdown",
   "metadata": {},
   "source": [
    "The statistic file can be filtered in one of two ways: randomly or uniformly. A random sample (which conceptually doesn't require a statistic) will select sample-size numer of loci for analysis, while a uniform sample will attempt to create a uniform distribution of the chosen statistic. The samples will be placed into a set number of bins, which must be divisible by the number of target loci. "
   ]
  },
  {
   "cell_type": "code",
   "execution_count": 4,
   "metadata": {},
   "outputs": [],
   "source": [
    "stat_sampler.run(['--statistic-file',int_bed_file,'--out',target_loci_file,'--sampling-scheme','uniform',\n",
    "                 '--uniform-bins','5','--sample-size',str(loci),'--calc-statistic','windowed-weir-fst','--overwrite'])"
   ]
  },
  {
   "cell_type": "markdown",
   "metadata": {},
   "source": [
    "This function creates loci VCF files from the full-genome VCF, while optionally doing additional filtering"
   ]
  },
  {
   "cell_type": "code",
   "execution_count": 4,
   "metadata": {},
   "outputs": [
    {
     "name": "stdout",
     "output_type": "stream",
     "text": [
      "Sampling complete\n"
     ]
    }
   ],
   "source": [
    "#Uniformly sample regions for subset of 200 loci\n",
    "#vcf_sampler.run(['--vcf', filtered_vcf_name, '--statistic-file', \n",
    "#                 target_loci_file, '--out-format', 'vcf', '--calc-statistic', 'windowed-weir-fst', \n",
    "#                 '--sampling-scheme', 'uniform', '--uniform-bins', '5', '--out-dir', \n",
    "#                 work_dir + 'great_ape_genome2/Sample_Files', '--overwrite'])\n",
    "#vcf_split.run(['--vcf',filtered_vcf_name,'--split-method','statistic-file','--out-format','vcf','--out-prefix',\n",
    "#              vcf_dir+'Sampled_nonmissing/Sample','--split-file',target_loci_file])\n",
    "vcf_from_regions.vcf_region_write([filtered_vcf_name,'--bed',target_loci_file,'--out-prefix',vcf_dir+'Sampled_nonmissing/Sample_',\n",
    "                                  '--remove-indels','--remove-multi','--bed-column-index','2,3,1',\n",
    "                                   '--informative-count','2'])\n",
    "\n",
    "print(\"Sampling complete\")\n"
   ]
  },
  {
   "cell_type": "markdown",
   "metadata": {},
   "source": [
    "Each locus must be prepared for IM analysis, which involves finding a subregion of each locus that passes the four-gamete test. The four-gamete test is passed if all pairs of alleles in a region have less than four gametes among them. For example, if two SNPs are A/C and G/T, there are four possible gamete haplotypes among them: AG, AT, CG, and CT. If haplotypes with all four of these are present, this indicates that there must have been a recombination event between them at some point in the sampled populations. This violates the IM model, so these regions would fail the test. The four-gamete code as implemented will compute all regions that pass the four-gamete test in a locus VCF file, then select a region either at random or with the largest number of informative sites. A minimum number of informative sites can be set, which defaults to two.\n",
    "\n",
    "Before the four-gamete test, the locus VCF files need to be phased. This pipeline provides two phasing programs, beagle and shapeit. "
   ]
  },
  {
   "cell_type": "code",
   "execution_count": 5,
   "metadata": {},
   "outputs": [
    {
     "name": "stdout",
     "output_type": "stream",
     "text": [
      "Phasing done\n"
     ]
    }
   ],
   "source": [
    "#Phase locus\n",
    "for i in range(loci):\n",
    "    vcf_phase.run(['--vcf',region_files[i],'--phase-algorithm','shapeit','--out',\n",
    "                   phased_files[i],'--out-format','vcf','--overwrite'])\n",
    "print (\"Phasing done\")"
   ]
  },
  {
   "cell_type": "code",
   "execution_count": 6,
   "metadata": {},
   "outputs": [
    {
     "name": "stdout",
     "output_type": "stream",
     "text": [
      "Four gamete regions selected for 199 loci\n"
     ]
    }
   ],
   "source": [
    "#Subsample locus for four-gamete compatible interval, if no subregion returned, do not use VCF\n",
    "passed_files = []\n",
    "for i in range(loci):\n",
    "    ret = four_gamete_pysam.sample_fourgametetest_intervals(['--vcfs', phased_files[i], '--out', \n",
    "                                                       fourg_files[i], '--4gcompat', '--reti', '--right', \n",
    "                                                       '--numinf', '2'])\n",
    "    if ret[0] is not None:\n",
    "        passed_files.append(fourg_files[i])\n",
    "print (\"Four gamete regions selected for %d loci\"%(len(passed_files)))"
   ]
  },
  {
   "cell_type": "code",
   "execution_count": 7,
   "metadata": {},
   "outputs": [
    {
     "name": "stdout",
     "output_type": "stream",
     "text": [
      "IMa input created\n"
     ]
    }
   ],
   "source": [
    "#Create IMa input file\n",
    "ima_args = ['--vcfs']\n",
    "ima_args.extend(passed_files)\n",
    "ima_args.extend(['--model-file', model_file, '--model','2Pop','--out', work_dir + 'ima_all_loci.ima.u'])\n",
    "\n",
    "vcf_to_ima.vcf_to_ima(ima_args)\n",
    "print (\"IMa input created\")"
   ]
  },
  {
   "cell_type": "code",
   "execution_count": null,
   "metadata": {
    "collapsed": true
   },
   "outputs": [],
   "source": [
    "#Admixture analysis, optional\n",
    "from pgpipe import convert, admixture, graph_plotter\n",
    "phased_string = ' '.join(phased_files)\n",
    "loci_vcf = vcf_dir+'Phased/phased_merged.vcf.gz'\n",
    "concatcall = subprocess.Popen('vcf-concat '+phased_string+ ' | bgzip -c > '+loci_vcf, shell=True,stdout=subprocess.PIPE)\n",
    "temp_out, temp_err = concatcall.communicate()\n",
    "convert.run(['--vcf',loci_vcf,'--out-format','binary-ped','--out-prefix',vcf_dir+'great_ape','--overwrite'])\n",
    "admixture.run(['--file',vcf_dir+'great_ape.bed','--pop','2'])\n",
    "graph_plotter.bar_plot(vcf_dir+'great_ape.2.Q')\n",
    "print (\"Plots created\")"
   ]
  },
  {
   "cell_type": "code",
   "execution_count": null,
   "metadata": {
    "collapsed": true
   },
   "outputs": [],
   "source": []
  }
 ],
 "metadata": {
  "kernelspec": {
   "display_name": "Python 3",
   "language": "python",
   "name": "python3"
  },
  "language_info": {
   "codemirror_mode": {
    "name": "ipython",
    "version": 3
   },
   "file_extension": ".py",
   "mimetype": "text/x-python",
   "name": "python",
   "nbconvert_exporter": "python",
   "pygments_lexer": "ipython3",
   "version": "3.6.1"
  }
 },
 "nbformat": 4,
 "nbformat_minor": 2
}
