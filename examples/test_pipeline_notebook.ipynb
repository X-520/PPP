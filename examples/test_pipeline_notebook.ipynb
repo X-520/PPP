{
 "cells": [
  {
   "cell_type": "code",
   "execution_count": null,
   "metadata": {},
   "outputs": [],
   "source": [
    "import sys\n",
    "import os\n",
    "import subprocess\n",
    "\n",
    "from pgpipe import four_gamete_pysam, vcf_to_ima, vcf_filter, vcf_calc, vcf_sampler, vcf_phase\n",
    "from pgpipe.logging_module import initLogger\n",
    "from pgpipe.informative_filter import filter_bed_regions\n",
    "import pysam\n",
    "\n",
    "print (\"Imports complete\")"
   ]
  },
  {
   "cell_type": "code",
   "execution_count": null,
   "metadata": {
    "collapsed": true
   },
   "outputs": [],
   "source": [
    "#Set up directories and filepaths, run on all restarts\n",
    "work_dir='/home/jared/workspace/ppp/local_work/'\n",
    "data_dir='/media/ccgg/ppp_sample_data/'\n",
    "vcf_dir = work_dir+'great_ape_genome2/'\n",
    "beagle_dir = '/home/jared/workspace/ppp/andrew/bin/'\n",
    "\n",
    "main_vcf_name = data_dir+'recompress.vcf.gz'\n",
    "filtered_vcf_pref = work_dir+'great_ape_genome/Pantrog_onlybiallelic_nomissing'\n",
    "stat_file_pref = work_dir+'great_ape_genome2/fst.calc'\n",
    "model_file = data_dir+'great_ape.model'\n",
    "subsamp_bed_file = work_dir+'great_ape_genome2/5k_sample.bed'\n",
    "logfile = '/home/jared/testpppj.log'\n"
   ]
  },
  {
   "cell_type": "code",
   "execution_count": null,
   "metadata": {
    "collapsed": true
   },
   "outputs": [],
   "source": [
    "#Define filenames for all loci, plus list of passed files\n",
    "region_files = [vcf_dir+'Sample_Files/Sample_'+str(i)+'.vcf' for i in range(200)]\n",
    "phased_files = [vcf_dir+'Phased/phased_'+str(i)+'.vcf' for i in range(200)]\n",
    "fourg_files = [vcf_dir+'four_gamete/Sample_'+str(i)+'.vcf' for i in range(200)]\n",
    "passed_files = []\n",
    "initLogger(filename=logfile)"
   ]
  },
  {
   "cell_type": "code",
   "execution_count": null,
   "metadata": {},
   "outputs": [],
   "source": [
    "%load_ext rpy2.ipython\n",
    "from pgpipe import convert"
   ]
  },
  {
   "cell_type": "code",
   "execution_count": null,
   "metadata": {
    "collapsed": true
   },
   "outputs": [],
   "source": [
    "#Set up directory structure, only needs to be run once\n",
    "if not os.path.exists(vcf_dir):\n",
    "    os.makedirs(vcf_dir)\n",
    "    os.makedirs(vcf_dir+'four_gamete/')\n",
    "    os.makedirs(vcf_dir+'Sampled_nonmissing/')\n",
    "    os.makedirs(vcf_dir+'Phased/')"
   ]
  },
  {
   "cell_type": "code",
   "execution_count": null,
   "metadata": {
    "collapsed": true
   },
   "outputs": [],
   "source": [
    "#Creates VCF filtered for no missing data and biallelic sites\n",
    "vcf_filter.run(['--vcf', main_vcf_name, '--filter-max-missing', '1.0', '--model-file',model_file,\n",
    "                '--model','2Pop', '--filter-min-alleles', '2', '--filter-max-alleles', '2', '--out-format', \n",
    "                'vcf.gz', '--out-prefix', filtered_vcf_pref, '--filter-exclude-chr', 'chrX', 'chrY', '--overwrite'])\n",
    "\n",
    "pysam.tabix_index(filtered_vcf_pref+'.recode.vcf.gz',preset='vcf')\n",
    "print(\"Filtering complete\")"
   ]
  },
  {
   "cell_type": "code",
   "execution_count": null,
   "metadata": {},
   "outputs": [],
   "source": [
    "#Calculates f_st statistics across genome\n",
    "vcf_calc.run(['--vcf', filtered_vcf_pref + '.recode.vcf.gz', '--out-prefix', stat_file_pref, \n",
    "              '--calc-statistic', 'windowed-weir-fst', '--model', '2Pop', '--statistic-window-size', \n",
    "              '10000', '--statistic-window-step', '20000', '--model-file', model_file, '--overwrite'])\n",
    "print(\"Stat calculation complete\")"
   ]
  },
  {
   "cell_type": "code",
   "execution_count": null,
   "metadata": {},
   "outputs": [],
   "source": [
    "#Selects subset of regions for fast sampling\n",
    "filter_bed_regions(['--vcf',filtered_vcf_pref+'.recode.vcf.gz','--bed',stat_file_pref+'.windowed.weir.fst',\n",
    "                    '--remove-indels','--minsites','4','--keep-full-line','--out',subsamp_bed_file,\n",
    "                    '--randcount','5000'])\n",
    "print(\"BED regions selected\")\n"
   ]
  },
  {
   "cell_type": "code",
   "execution_count": null,
   "metadata": {},
   "outputs": [],
   "source": [
    "#Uniformly sample regions for subset of 200 loci\n",
    "vcf_sampler.run(['--vcf', filtered_vcf_pref + '.recode.vcf.gz', '--statistic-file', \n",
    "                 subsamp_bed_file, '--out-format', 'vcf', '--calc-statistic', 'windowed-weir-fst', \n",
    "                 '--sampling-scheme', 'uniform', '--uniform-bins', '5', '--out-dir', \n",
    "                 work_dir + 'great_ape_genome2/Sample_Files', '--overwrite'])\n",
    "\n",
    "print(\"Sampling complete\")\n"
   ]
  },
  {
   "cell_type": "code",
   "execution_count": null,
   "metadata": {},
   "outputs": [],
   "source": [
    "#Phase locus\n",
    "for i in range(200):\n",
    "    vcf_phase.run(['--vcf',region_files[i],'--phase-algorithm','shapeit','--out',\n",
    "                   phased_files[i],'--out-format','vcf','--overwrite'])\n",
    "print (\"Phasing done\")"
   ]
  },
  {
   "cell_type": "code",
   "execution_count": null,
   "metadata": {},
   "outputs": [],
   "source": [
    "#Subsample locus for four-gamete compatible interval, if no subregion returned, do not use VCF\n",
    "for i in range(200):\n",
    "    ret = four_gamete_pysam.sample_fourgametetest_intervals(['--vcfs', phased_files[i], '--out', \n",
    "                                                       fourg_files[i], '--4gcompat', '--reti', '--right', \n",
    "                                                       '--numinf', '2'])\n",
    "    if ret is not None:\n",
    "        passed_files.append(fourg_files[i])\n",
    "print (\"Four gamete regions selected for %d loci\"%(len(passed_files)))"
   ]
  },
  {
   "cell_type": "code",
   "execution_count": null,
   "metadata": {},
   "outputs": [],
   "source": [
    "#Create IMa input file\n",
    "ima_args = ['--vcfs']\n",
    "ima_args.extend(passed_files)\n",
    "ima_args.extend(['--model-file', model_file, '--model','2Pop','--out', work_dir + 'ima_all_loci.ima.u'])\n",
    "\n",
    "vcf_to_ima.vcf_to_ima(ima_args)\n",
    "print (\"IMa input created\")"
   ]
  },
  {
   "cell_type": "code",
   "execution_count": null,
   "metadata": {},
   "outputs": [],
   "source": [
    "#Admixture analysis, optional\n",
    "from pgpipe import convert, admixture, graph_plotter\n",
    "phased_string = ' '.join(phased_files)\n",
    "loci_vcf = vcf_dir+'Phased/phased_merged.vcf.gz'\n",
    "concatcall = subprocess.Popen('vcf-concat '+phased_string+ ' | bgzip -c > '+loci_vcf, shell=True,stdout=subprocess.PIPE)\n",
    "temp_out, temp_err = concatcall.communicate()\n",
    "convert.run(['--vcf',loci_vcf,'--out-format','binary-ped','--out-prefix',vcf_dir+'great_ape','--overwrite'])\n",
    "admixture.run(['--file',vcf_dir+'great_ape.bed','--pop','2'])\n",
    "graph_plotter.bar_plot(vcf_dir+'great_ape.2.Q')\n",
    "print (\"Plots created\")"
   ]
  },
  {
   "cell_type": "code",
   "execution_count": null,
   "metadata": {
    "collapsed": true
   },
   "outputs": [],
   "source": []
  }
 ],
 "metadata": {
  "kernelspec": {
   "display_name": "Python 3",
   "language": "python",
   "name": "python3"
  },
  "language_info": {
   "codemirror_mode": {
    "name": "ipython",
    "version": 3
   },
   "file_extension": ".py",
   "mimetype": "text/x-python",
   "name": "python",
   "nbconvert_exporter": "python",
   "pygments_lexer": "ipython3",
   "version": "3.6.1"
  }
 },
 "nbformat": 4,
 "nbformat_minor": 2
}
